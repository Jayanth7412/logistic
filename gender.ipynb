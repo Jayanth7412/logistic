{
 "cells": [
  {
   "cell_type": "code",
   "execution_count": 2,
   "metadata": {},
   "outputs": [],
   "source": [
    "import torch\n",
    "import pandas as pd\n",
    "import numpy as np\n",
    "from sklearn.preprocessing import StandardScaler as ss\n",
    "from sklearn.utils import shuffle"
   ]
  },
  {
   "cell_type": "code",
   "execution_count": 3,
   "metadata": {},
   "outputs": [],
   "source": [
    "data=pd.read_csv(\"./StudentsPerformance.csv\")\n",
    "#data=data.drop([\"lunch\"],axis=1)\n",
    "data=shuffle(data)\n",
    "uniq_labels=data[\"gender\"].unique()\n",
    "labels=data.pop(\"gender\")\n",
    "labels=np.array(labels)\n",
    "data=pd.get_dummies(data)\n",
    "data=ss().fit_transform(data)\n"
   ]
  },
  {
   "cell_type": "code",
   "execution_count": 4,
   "metadata": {},
   "outputs": [],
   "source": [
    "shalabels = np.zeros((len(labels), len(uniq_labels)))"
   ]
  },
  {
   "cell_type": "code",
   "execution_count": 5,
   "metadata": {},
   "outputs": [
    {
     "data": {
      "text/plain": [
       "array([[1., 0.],\n",
       "       [0., 1.],\n",
       "       [0., 1.],\n",
       "       [1., 0.],\n",
       "       [0., 1.],\n",
       "       [0., 1.],\n",
       "       [0., 1.],\n",
       "       [0., 1.],\n",
       "       [1., 0.],\n",
       "       [0., 1.],\n",
       "       [0., 1.],\n",
       "       [0., 1.],\n",
       "       [0., 1.],\n",
       "       [0., 1.],\n",
       "       [0., 1.]])"
      ]
     },
     "execution_count": 5,
     "metadata": {},
     "output_type": "execute_result"
    }
   ],
   "source": [
    "for i in range(len(uniq_labels)):\n",
    "    x = np.where(labels == uniq_labels[i])\n",
    "    shalabels[x,i] = 1\n",
    "\n",
    "shalabels[:15]"
   ]
  },
  {
   "cell_type": "code",
   "execution_count": 6,
   "metadata": {},
   "outputs": [],
   "source": [
    "features = torch.tensor(np.array(data), dtype=torch.float32)\n",
    "labels = torch.tensor(shalabels, dtype=torch.float32)"
   ]
  },
  {
   "cell_type": "code",
   "execution_count": 7,
   "metadata": {},
   "outputs": [
    {
     "data": {
      "text/plain": [
       "torch.Size([1000, 2])"
      ]
     },
     "execution_count": 7,
     "metadata": {},
     "output_type": "execute_result"
    }
   ],
   "source": [
    "labels.shape"
   ]
  },
  {
   "cell_type": "code",
   "execution_count": 8,
   "metadata": {},
   "outputs": [
    {
     "name": "stdout",
     "output_type": "stream",
     "text": [
      "tensor([[0.4591, 0.5409],\n",
      "        [0.4572, 0.5428],\n",
      "        [0.4595, 0.5405],\n",
      "        [0.4567, 0.5433],\n",
      "        [0.4583, 0.5417]], grad_fn=<SliceBackward0>)\n"
     ]
    },
    {
     "name": "stderr",
     "output_type": "stream",
     "text": [
      "c:\\Users\\v.jahnavi\\AppData\\Local\\Programs\\Python\\Python39\\lib\\site-packages\\torch\\nn\\modules\\container.py:139: UserWarning: Implicit dimension choice for softmax has been deprecated. Change the call to include dim=X as an argument.\n",
      "  input = module(input)\n"
     ]
    }
   ],
   "source": [
    "model= torch.nn.Sequential(\n",
    "    torch.nn.Linear(18,8),\n",
    "    torch.nn.Softmax(),\n",
    "    torch.nn.Linear(8,4),\n",
    "    torch.nn.Softmax(),\n",
    "    torch.nn.Linear(4,2),\n",
    "    torch.nn.Softmax(dim=-1)\n",
    ")\n",
    "preds=model(features)\n",
    "print(preds[:5])"
   ]
  },
  {
   "cell_type": "code",
   "execution_count": 9,
   "metadata": {},
   "outputs": [
    {
     "name": "stdout",
     "output_type": "stream",
     "text": [
      "tensor(0.6933, grad_fn=<BinaryCrossEntropyBackward0>)\n"
     ]
    }
   ],
   "source": [
    "loss_fn = torch.nn.BCELoss()\n",
    "\n",
    "loss = loss_fn(preds, labels)\n",
    "print(loss)"
   ]
  },
  {
   "cell_type": "code",
   "execution_count": 10,
   "metadata": {},
   "outputs": [],
   "source": [
    "optimize= torch.optim.SGD(model.parameters(),lr=0.1e-1)"
   ]
  },
  {
   "cell_type": "code",
   "execution_count": 11,
   "metadata": {},
   "outputs": [
    {
     "name": "stdout",
     "output_type": "stream",
     "text": [
      "Loss tensor(0.6896, grad_fn=<BinaryCrossEntropyBackward0>)\n",
      "Accuracy : 51.8\n",
      "Loss tensor(0.5967, grad_fn=<BinaryCrossEntropyBackward0>)\n",
      "Accuracy : 74.2\n",
      "Loss tensor(0.2195, grad_fn=<BinaryCrossEntropyBackward0>)\n",
      "Accuracy : 91.4\n"
     ]
    }
   ],
   "source": [
    "from torch import no_grad\n",
    "\n",
    "epochs=100000\n",
    "for epoch in range(epochs):\n",
    "    preds=model(features)\n",
    "    loss=loss_fn(preds,labels)\n",
    "    loss.backward()\n",
    "    optimize.step()\n",
    "    optimize.zero_grad()\n",
    "    with torch.no_grad():\n",
    "        if (epoch+1)%(epochs//10)==0:\n",
    "            right=0\n",
    "            for i in range(len(preds)):\n",
    "                for j in range(len(preds[i])): \n",
    "                    if preds[i][j]==max(preds[i]):\n",
    "                        if(labels[i][j]==1):    \n",
    "                            right+=1\n",
    "            print(\"Loss\",loss)\n",
    "            print(\"Accuracy :\",round(right*100/len(preds),5))"
   ]
  },
  {
   "cell_type": "code",
   "execution_count": null,
   "metadata": {},
   "outputs": [],
   "source": [
    "torch.save(model.state_dict(),\"genderchal.pth\")"
   ]
  }
 ],
 "metadata": {
  "kernelspec": {
   "display_name": "Python 3.9.11 64-bit",
   "language": "python",
   "name": "python3"
  },
  "language_info": {
   "codemirror_mode": {
    "name": "ipython",
    "version": 3
   },
   "file_extension": ".py",
   "mimetype": "text/x-python",
   "name": "python",
   "nbconvert_exporter": "python",
   "pygments_lexer": "ipython3",
   "version": "3.9.11"
  },
  "orig_nbformat": 4,
  "vscode": {
   "interpreter": {
    "hash": "2e20c6d1b02e3536062a9e3e5881a9daa1201b5070ee644c0ea1d496f9524706"
   }
  }
 },
 "nbformat": 4,
 "nbformat_minor": 2
}
