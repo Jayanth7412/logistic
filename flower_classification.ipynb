{
 "cells": [
  {
   "cell_type": "code",
   "execution_count": 1,
   "metadata": {},
   "outputs": [],
   "source": [
    "import torch\n",
    "import pandas as pd\n",
    "import numpy as np\n",
    "from sklearn.preprocessing import StandardScaler as ss\n",
    "from sklearn.utils import shuffle"
   ]
  },
  {
   "cell_type": "code",
   "execution_count": 2,
   "metadata": {},
   "outputs": [
    {
     "name": "stdout",
     "output_type": "stream",
     "text": [
      "['Iris-setosa' 'Iris-versicolor' 'Iris-virginica']\n"
     ]
    }
   ],
   "source": [
    "data = pd.read_csv(\"./iris.csv\")\n",
    "data = data.drop([\"Id\"], axis=1)\n",
    "\n",
    "un_labels = data[\"Species\"].unique()\n",
    "# for i in data[\"Species\"].unique():\n",
    "#     print(sum(data[\"Species\"]==i))\n",
    "\n",
    "data = shuffle(data)\n",
    "labels = data.pop(\"Species\")\n",
    "labels = np.array(labels)\n",
    "\n",
    "data = ss().fit_transform(data)\n",
    "print(un_labels)"
   ]
  },
  {
   "cell_type": "code",
   "execution_count": 3,
   "metadata": {},
   "outputs": [
    {
     "data": {
      "text/plain": [
       "array([[1., 0., 0.],\n",
       "       [0., 0., 1.],\n",
       "       [0., 0., 1.],\n",
       "       [1., 0., 0.],\n",
       "       [0., 0., 1.],\n",
       "       [0., 1., 0.],\n",
       "       [1., 0., 0.],\n",
       "       [1., 0., 0.],\n",
       "       [0., 1., 0.],\n",
       "       [0., 1., 0.],\n",
       "       [0., 0., 1.],\n",
       "       [1., 0., 0.],\n",
       "       [0., 0., 1.],\n",
       "       [0., 1., 0.],\n",
       "       [1., 0., 0.]])"
      ]
     },
     "execution_count": 3,
     "metadata": {},
     "output_type": "execute_result"
    }
   ],
   "source": [
    "ohe_labels = np.zeros((len(labels), len(un_labels)))\n",
    "\n",
    "for i in range(len(un_labels)):\n",
    "    x = np.where(labels == un_labels[i])\n",
    "    ohe_labels[x,i] = 1\n",
    "\n",
    "ohe_labels[:15]"
   ]
  },
  {
   "cell_type": "code",
   "execution_count": 4,
   "metadata": {},
   "outputs": [],
   "source": [
    "features = torch.tensor(np.array(data), dtype=torch.float32)\n",
    "labels = torch.tensor(ohe_labels, dtype=torch.float32)"
   ]
  },
  {
   "cell_type": "code",
   "execution_count": 8,
   "metadata": {},
   "outputs": [
    {
     "name": "stdout",
     "output_type": "stream",
     "text": [
      "(150, 4) torch.Size([150, 4])\n"
     ]
    }
   ],
   "source": [
    "print(data.shape,features.shape)"
   ]
  },
  {
   "cell_type": "code",
   "execution_count": 13,
   "metadata": {},
   "outputs": [
    {
     "name": "stdout",
     "output_type": "stream",
     "text": [
      "tensor([[0.3972, 0.3475, 0.2553],\n",
      "        [0.3955, 0.3495, 0.2549],\n",
      "        [0.3955, 0.3495, 0.2550],\n",
      "        [0.3972, 0.3476, 0.2552],\n",
      "        [0.3950, 0.3493, 0.2557]], grad_fn=<SliceBackward0>)\n"
     ]
    },
    {
     "name": "stderr",
     "output_type": "stream",
     "text": [
      "c:\\Users\\v.jahnavi\\AppData\\Local\\Programs\\Python\\Python39\\lib\\site-packages\\torch\\nn\\modules\\container.py:139: UserWarning: Implicit dimension choice for softmax has been deprecated. Change the call to include dim=X as an argument.\n",
      "  input = module(input)\n"
     ]
    }
   ],
   "source": [
    "model = torch.nn.Sequential(\n",
    "    torch.nn.Linear(4,7),\n",
    "    torch.nn.Softmax(),\n",
    "    torch.nn.Linear(7,4),\n",
    "    torch.nn.Softmax(),\n",
    "    torch.nn.Linear(4,3),\n",
    "    torch.nn.Softmax()\n",
    ")\n",
    "\n",
    "preds = model(features)\n",
    "print(preds[:5])"
   ]
  },
  {
   "cell_type": "code",
   "execution_count": 14,
   "metadata": {},
   "outputs": [
    {
     "name": "stdout",
     "output_type": "stream",
     "text": [
      "tensor(0.6434, grad_fn=<BinaryCrossEntropyBackward0>)\n"
     ]
    }
   ],
   "source": [
    "loss_fn = torch.nn.BCELoss()\n",
    "\n",
    "loss = loss_fn(preds, labels)\n",
    "print(loss)"
   ]
  },
  {
   "cell_type": "code",
   "execution_count": null,
   "metadata": {},
   "outputs": [],
   "source": [
    "optimize= torch.optim.SGD(model.parameters(),lr=0.1e-1)"
   ]
  },
  {
   "cell_type": "code",
   "execution_count": null,
   "metadata": {},
   "outputs": [
    {
     "name": "stdout",
     "output_type": "stream",
     "text": [
      "Accuracy : 98.66667\n",
      "Accuracy : 98.66667\n",
      "Accuracy : 98.66667\n",
      "Accuracy : 98.66667\n",
      "Accuracy : 98.66667\n",
      "Accuracy : 98.66667\n",
      "Accuracy : 98.66667\n",
      "Accuracy : 98.66667\n",
      "Accuracy : 98.66667\n",
      "Accuracy : 98.66667\n"
     ]
    }
   ],
   "source": [
    "from torch import no_grad\n",
    "\n",
    "epochs=100000\n",
    "for epoch in range(epochs):\n",
    "    preds=model(features)\n",
    "    loss=loss_fn(preds,labels)\n",
    "    loss.backward()\n",
    "    optimize.step()\n",
    "    optimize.zero_grad()\n",
    "    with torch.no_grad():\n",
    "        if (epoch+1)%(epochs//10)==0:\n",
    "            right=0\n",
    "            for i in range(len(preds)):\n",
    "                for j in range(len(preds[i])):\n",
    "                    \n",
    "                    if preds[i][j]==max(preds[i]):\n",
    "                        #print(preds[i][j])\n",
    "                        #print(max(preds[i]),preds[i][j])\n",
    "                        #print(labels[i])\n",
    "                        if(labels[i][j]==1):\n",
    "                            #print(labels[i])\n",
    "                            right+=1\n",
    "                            #print(right)\n",
    "            print(\"Accuracy :\",round(right*100/len(preds),5))"
   ]
  }
 ],
 "metadata": {
  "kernelspec": {
   "display_name": "Python 3.9.11 64-bit",
   "language": "python",
   "name": "python3"
  },
  "language_info": {
   "codemirror_mode": {
    "name": "ipython",
    "version": 3
   },
   "file_extension": ".py",
   "mimetype": "text/x-python",
   "name": "python",
   "nbconvert_exporter": "python",
   "pygments_lexer": "ipython3",
   "version": "3.9.11"
  },
  "orig_nbformat": 4,
  "vscode": {
   "interpreter": {
    "hash": "2e20c6d1b02e3536062a9e3e5881a9daa1201b5070ee644c0ea1d496f9524706"
   }
  }
 },
 "nbformat": 4,
 "nbformat_minor": 2
}
